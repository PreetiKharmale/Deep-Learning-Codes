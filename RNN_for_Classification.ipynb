{
 "cells": [
  {
   "cell_type": "markdown",
   "metadata": {},
   "source": [
    "# RNN for Classification "
   ]
  },
  {
   "cell_type": "code",
   "execution_count": null,
   "metadata": {
    "id": "f06DTfRWw6K4"
   },
   "outputs": [],
   "source": [
    "import numpy as np\n",
    "import tensorflow as tf\n",
    "from tensorflow.keras.datasets import imdb\n",
    "from tensorflow.keras.preprocessing.sequence import pad_sequences\n",
    "from tensorflow.keras.models import Sequential\n",
    "from tensorflow.keras.layers import Embedding, SimpleRNN, Dense\n"
   ]
  },
  {
   "cell_type": "code",
   "execution_count": null,
   "metadata": {
    "colab": {
     "base_uri": "https://localhost:8080/"
    },
    "id": "4gmLBfelxkX7",
    "outputId": "e23ca4ba-ca4f-452e-9e8d-e41daee42ec3"
   },
   "outputs": [
    {
     "name": "stdout",
     "output_type": "stream",
     "text": [
      "Epoch 1/10\n",
      "625/625 [==============================] - 44s 69ms/step - loss: 0.5698 - accuracy: 0.6831 - val_loss: 0.4273 - val_accuracy: 0.8090\n",
      "Epoch 2/10\n",
      "625/625 [==============================] - 39s 63ms/step - loss: 0.3585 - accuracy: 0.8502 - val_loss: 0.3722 - val_accuracy: 0.8436\n",
      "Epoch 3/10\n",
      "625/625 [==============================] - 39s 63ms/step - loss: 0.2794 - accuracy: 0.8895 - val_loss: 0.3510 - val_accuracy: 0.8588\n",
      "Epoch 4/10\n",
      "625/625 [==============================] - 39s 62ms/step - loss: 0.2328 - accuracy: 0.9113 - val_loss: 0.3431 - val_accuracy: 0.8686\n",
      "Epoch 5/10\n",
      "625/625 [==============================] - 40s 64ms/step - loss: 0.1850 - accuracy: 0.9300 - val_loss: 0.4725 - val_accuracy: 0.7984\n",
      "Epoch 6/10\n",
      "625/625 [==============================] - 39s 62ms/step - loss: 0.1391 - accuracy: 0.9486 - val_loss: 0.4094 - val_accuracy: 0.8502\n",
      "Epoch 7/10\n",
      "625/625 [==============================] - 40s 64ms/step - loss: 0.1104 - accuracy: 0.9612 - val_loss: 0.6044 - val_accuracy: 0.7710\n",
      "Epoch 8/10\n",
      "625/625 [==============================] - 39s 62ms/step - loss: 0.0751 - accuracy: 0.9747 - val_loss: 0.5577 - val_accuracy: 0.8292\n",
      "Epoch 9/10\n",
      "625/625 [==============================] - 39s 63ms/step - loss: 0.0631 - accuracy: 0.9793 - val_loss: 0.6743 - val_accuracy: 0.8020\n",
      "Epoch 10/10\n",
      "625/625 [==============================] - 39s 62ms/step - loss: 0.0495 - accuracy: 0.9838 - val_loss: 0.6568 - val_accuracy: 0.8156\n",
      "782/782 [==============================] - 11s 14ms/step - loss: 0.6806 - accuracy: 0.8130\n",
      "Test Loss: 0.6806149482727051\n",
      "Test Accuracy: 0.8129600286483765\n"
     ]
    }
   ],
   "source": [
    "#set parameters\n",
    "max_features = 10000\n",
    "maxlen = 500\n",
    "batch_size = 32\n",
    "\n",
    "#load data\n",
    "(train_data,train_labels), (test_data, test_labels) = imdb.load_data(num_words=max_features)\n",
    "\n",
    "#pad sequence to ensure consistent length\n",
    "train_data = pad_sequences(train_data,maxlen=maxlen)\n",
    "test_data = pad_sequences(test_data, maxlen=maxlen)    #pad the sequences to ensure they all have the same length using pad_sequences\n",
    "\n",
    "#build the model\n",
    "model = Sequential([\n",
    "    Embedding(max_features, 32),   #Embedding layer to convert integer-encoded words into dense vectors.\n",
    "    SimpleRNN(32),   #SimpleRNN layer with 32 units\n",
    "    Dense(1, activation='sigmoid')   #final o/p layer for Classification\n",
    "])\n",
    "\n",
    "#Compile the model\n",
    "model.compile(optimizer='rmsprop',\n",
    "              loss='binary_crossentropy',\n",
    "              metrics = ['accuracy'])\n",
    "\n",
    "# Train the model\n",
    "history = model.fit(train_data, train_labels,\n",
    "                    epochs = 10,\n",
    "                    batch_size = batch_size,\n",
    "                    validation_split = 0.2)\n",
    "\n",
    "# Evaluate the model\n",
    "loss, accuracy = model.evaluate(test_data, test_labels)\n",
    "print(f'Test Loss: {loss}')\n",
    "print(f'Test Accuracy: {accuracy}')\n"
   ]
  }
 ],
 "metadata": {
  "colab": {
   "provenance": []
  },
  "kernelspec": {
   "display_name": "Python 3",
   "name": "python3"
  },
  "language_info": {
   "name": "python"
  }
 },
 "nbformat": 4,
 "nbformat_minor": 0
}
